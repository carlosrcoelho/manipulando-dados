{
 "cells": [
  {
   "cell_type": "markdown",
   "metadata": {},
   "source": [
    "## Projeto focado em precificação inteligente no âmbito de hospedagem de imóveis. "
   ]
  },
  {
   "cell_type": "markdown",
   "metadata": {},
   "source": [
    "## Importando os dados"
   ]
  },
  {
   "cell_type": "code",
   "execution_count": 1,
   "metadata": {},
   "outputs": [],
   "source": [
    "import pandas as pd\n",
    "import numpy as np\n",
    "import re"
   ]
  },
  {
   "cell_type": "code",
   "execution_count": 2,
   "metadata": {},
   "outputs": [
    {
     "data": {
      "text/html": [
       "<div>\n",
       "<style scoped>\n",
       "    .dataframe tbody tr th:only-of-type {\n",
       "        vertical-align: middle;\n",
       "    }\n",
       "\n",
       "    .dataframe tbody tr th {\n",
       "        vertical-align: top;\n",
       "    }\n",
       "\n",
       "    .dataframe thead th {\n",
       "        text-align: right;\n",
       "    }\n",
       "</style>\n",
       "<table border=\"1\" class=\"dataframe\">\n",
       "  <thead>\n",
       "    <tr style=\"text-align: right;\">\n",
       "      <th></th>\n",
       "      <th>info_moveis</th>\n",
       "    </tr>\n",
       "  </thead>\n",
       "  <tbody>\n",
       "    <tr>\n",
       "      <th>0</th>\n",
       "      <td>{'avaliacao_geral': '10.0', 'experiencia_local...</td>\n",
       "    </tr>\n",
       "    <tr>\n",
       "      <th>1</th>\n",
       "      <td>{'avaliacao_geral': '10.0', 'experiencia_local...</td>\n",
       "    </tr>\n",
       "    <tr>\n",
       "      <th>2</th>\n",
       "      <td>{'avaliacao_geral': '10.0', 'experiencia_local...</td>\n",
       "    </tr>\n",
       "    <tr>\n",
       "      <th>3</th>\n",
       "      <td>{'avaliacao_geral': '10.0', 'experiencia_local...</td>\n",
       "    </tr>\n",
       "    <tr>\n",
       "      <th>4</th>\n",
       "      <td>{'avaliacao_geral': '10.0', 'experiencia_local...</td>\n",
       "    </tr>\n",
       "  </tbody>\n",
       "</table>\n",
       "</div>"
      ],
      "text/plain": [
       "                                         info_moveis\n",
       "0  {'avaliacao_geral': '10.0', 'experiencia_local...\n",
       "1  {'avaliacao_geral': '10.0', 'experiencia_local...\n",
       "2  {'avaliacao_geral': '10.0', 'experiencia_local...\n",
       "3  {'avaliacao_geral': '10.0', 'experiencia_local...\n",
       "4  {'avaliacao_geral': '10.0', 'experiencia_local..."
      ]
     },
     "execution_count": 2,
     "metadata": {},
     "output_type": "execute_result"
    }
   ],
   "source": [
    "df = pd.read_json('dados_hospedagem.json')\n",
    "df.head()"
   ]
  },
  {
   "cell_type": "markdown",
   "metadata": {},
   "source": [
    "## Tratando os dados"
   ]
  },
  {
   "cell_type": "code",
   "execution_count": 3,
   "metadata": {},
   "outputs": [
    {
     "data": {
      "text/html": [
       "<div>\n",
       "<style scoped>\n",
       "    .dataframe tbody tr th:only-of-type {\n",
       "        vertical-align: middle;\n",
       "    }\n",
       "\n",
       "    .dataframe tbody tr th {\n",
       "        vertical-align: top;\n",
       "    }\n",
       "\n",
       "    .dataframe thead th {\n",
       "        text-align: right;\n",
       "    }\n",
       "</style>\n",
       "<table border=\"1\" class=\"dataframe\">\n",
       "  <thead>\n",
       "    <tr style=\"text-align: right;\">\n",
       "      <th></th>\n",
       "      <th>avaliacao_geral</th>\n",
       "      <th>experiencia_local</th>\n",
       "      <th>max_hospedes</th>\n",
       "      <th>descricao_local</th>\n",
       "      <th>descricao_vizinhanca</th>\n",
       "      <th>quantidade_banheiros</th>\n",
       "      <th>quantidade_quartos</th>\n",
       "      <th>quantidade_camas</th>\n",
       "      <th>modelo_cama</th>\n",
       "      <th>comodidades</th>\n",
       "      <th>taxa_deposito</th>\n",
       "      <th>taxa_limpeza</th>\n",
       "      <th>preco</th>\n",
       "    </tr>\n",
       "  </thead>\n",
       "  <tbody>\n",
       "    <tr>\n",
       "      <th>0</th>\n",
       "      <td>10.0</td>\n",
       "      <td>--</td>\n",
       "      <td>1</td>\n",
       "      <td>[This clean and comfortable one bedroom sits r...</td>\n",
       "      <td>[Lower Queen Anne is near the Seattle Center (...</td>\n",
       "      <td>[1, 1, 1, 1, 1, 1, 1, 1, 1, 1, 1, 1, 1, 1, 1, ...</td>\n",
       "      <td>[1, 1, 1, 1, 1, 1, 1, 1, 1, 1, 1, 1, 1, 1, 1, ...</td>\n",
       "      <td>[1, 1, 1, 1, 1, 1, 1, 1, 1, 1, 1, 1, 1, 1, 1, ...</td>\n",
       "      <td>[Real Bed, Futon, Futon, Pull-out Sofa, Real B...</td>\n",
       "      <td>[{Internet,\"Wireless Internet\",Kitchen,\"Free P...</td>\n",
       "      <td>[$0, $0, $0, $0, $0, $350.00, $350.00, $350.00...</td>\n",
       "      <td>[$0, $0, $0, $20.00, $15.00, $28.00, $35.00, $...</td>\n",
       "      <td>[$110.00, $45.00, $55.00, $52.00, $85.00, $50....</td>\n",
       "    </tr>\n",
       "    <tr>\n",
       "      <th>1</th>\n",
       "      <td>10.0</td>\n",
       "      <td>--</td>\n",
       "      <td>10</td>\n",
       "      <td>[Welcome to the heart of the 'Ballard Brewery ...</td>\n",
       "      <td>[--, Capital Hill is the heart of Seattle, bor...</td>\n",
       "      <td>[2, 3, 2, 3, 3, 3, 2, 1, 2, 2, 2]</td>\n",
       "      <td>[3, 4, 2, 3, 3, 3, 3, 3, 3, 4, 3]</td>\n",
       "      <td>[5, 6, 8, 3, 3, 5, 4, 5, 6, 7, 4]</td>\n",
       "      <td>[Real Bed, Real Bed, Real Bed, Real Bed, Real ...</td>\n",
       "      <td>[{TV,Internet,\"Wireless Internet\",Kitchen,\"Fre...</td>\n",
       "      <td>[$500.00, $300.00, $0, $300.00, $300.00, $360....</td>\n",
       "      <td>[$125.00, $100.00, $85.00, $110.00, $110.00, $...</td>\n",
       "      <td>[$350.00, $300.00, $425.00, $300.00, $285.00, ...</td>\n",
       "    </tr>\n",
       "    <tr>\n",
       "      <th>2</th>\n",
       "      <td>10.0</td>\n",
       "      <td>--</td>\n",
       "      <td>11</td>\n",
       "      <td>[New modern house built in 2013.  Spectacular ...</td>\n",
       "      <td>[Upper Queen Anne is a charming neighborhood f...</td>\n",
       "      <td>[4]</td>\n",
       "      <td>[5]</td>\n",
       "      <td>[7]</td>\n",
       "      <td>[Real Bed]</td>\n",
       "      <td>[{TV,\"Cable TV\",Internet,\"Wireless Internet\",\"...</td>\n",
       "      <td>[$1,000.00]</td>\n",
       "      <td>[$300.00]</td>\n",
       "      <td>[$975.00]</td>\n",
       "    </tr>\n",
       "    <tr>\n",
       "      <th>3</th>\n",
       "      <td>10.0</td>\n",
       "      <td>--</td>\n",
       "      <td>12</td>\n",
       "      <td>[Our NW style home is 3200+ sq ft with 3 level...</td>\n",
       "      <td>[The Views from our top floor!  Wallingford ha...</td>\n",
       "      <td>[3, 3, 3, 3, 3, 3, 3, 3]</td>\n",
       "      <td>[6, 6, 5, 5, 5, 5, 4, 4]</td>\n",
       "      <td>[6, 6, 7, 8, 7, 7, 6, 6]</td>\n",
       "      <td>[Real Bed, Real Bed, Real Bed, Real Bed, Real ...</td>\n",
       "      <td>[{Internet,\"Wireless Internet\",Kitchen,\"Free P...</td>\n",
       "      <td>[$500.00, $500.00, $500.00, $500.00, $500.00, ...</td>\n",
       "      <td>[$225.00, $300.00, $250.00, $250.00, $250.00, ...</td>\n",
       "      <td>[$490.00, $550.00, $350.00, $350.00, $350.00, ...</td>\n",
       "    </tr>\n",
       "    <tr>\n",
       "      <th>4</th>\n",
       "      <td>10.0</td>\n",
       "      <td>--</td>\n",
       "      <td>14</td>\n",
       "      <td>[Perfect for groups. 2 bedrooms, full bathroom...</td>\n",
       "      <td>[Safeway grocery store within walking distance...</td>\n",
       "      <td>[2, 3]</td>\n",
       "      <td>[2, 6]</td>\n",
       "      <td>[3, 9]</td>\n",
       "      <td>[Real Bed, Real Bed]</td>\n",
       "      <td>[{TV,Internet,\"Wireless Internet\",Kitchen,\"Fre...</td>\n",
       "      <td>[$300.00, $2,000.00]</td>\n",
       "      <td>[$40.00, $150.00]</td>\n",
       "      <td>[$200.00, $545.00]</td>\n",
       "    </tr>\n",
       "  </tbody>\n",
       "</table>\n",
       "</div>"
      ],
      "text/plain": [
       "  avaliacao_geral experiencia_local max_hospedes  \\\n",
       "0            10.0                --            1   \n",
       "1            10.0                --           10   \n",
       "2            10.0                --           11   \n",
       "3            10.0                --           12   \n",
       "4            10.0                --           14   \n",
       "\n",
       "                                     descricao_local  \\\n",
       "0  [This clean and comfortable one bedroom sits r...   \n",
       "1  [Welcome to the heart of the 'Ballard Brewery ...   \n",
       "2  [New modern house built in 2013.  Spectacular ...   \n",
       "3  [Our NW style home is 3200+ sq ft with 3 level...   \n",
       "4  [Perfect for groups. 2 bedrooms, full bathroom...   \n",
       "\n",
       "                                descricao_vizinhanca  \\\n",
       "0  [Lower Queen Anne is near the Seattle Center (...   \n",
       "1  [--, Capital Hill is the heart of Seattle, bor...   \n",
       "2  [Upper Queen Anne is a charming neighborhood f...   \n",
       "3  [The Views from our top floor!  Wallingford ha...   \n",
       "4  [Safeway grocery store within walking distance...   \n",
       "\n",
       "                                quantidade_banheiros  \\\n",
       "0  [1, 1, 1, 1, 1, 1, 1, 1, 1, 1, 1, 1, 1, 1, 1, ...   \n",
       "1                  [2, 3, 2, 3, 3, 3, 2, 1, 2, 2, 2]   \n",
       "2                                                [4]   \n",
       "3                           [3, 3, 3, 3, 3, 3, 3, 3]   \n",
       "4                                             [2, 3]   \n",
       "\n",
       "                                  quantidade_quartos  \\\n",
       "0  [1, 1, 1, 1, 1, 1, 1, 1, 1, 1, 1, 1, 1, 1, 1, ...   \n",
       "1                  [3, 4, 2, 3, 3, 3, 3, 3, 3, 4, 3]   \n",
       "2                                                [5]   \n",
       "3                           [6, 6, 5, 5, 5, 5, 4, 4]   \n",
       "4                                             [2, 6]   \n",
       "\n",
       "                                    quantidade_camas  \\\n",
       "0  [1, 1, 1, 1, 1, 1, 1, 1, 1, 1, 1, 1, 1, 1, 1, ...   \n",
       "1                  [5, 6, 8, 3, 3, 5, 4, 5, 6, 7, 4]   \n",
       "2                                                [7]   \n",
       "3                           [6, 6, 7, 8, 7, 7, 6, 6]   \n",
       "4                                             [3, 9]   \n",
       "\n",
       "                                         modelo_cama  \\\n",
       "0  [Real Bed, Futon, Futon, Pull-out Sofa, Real B...   \n",
       "1  [Real Bed, Real Bed, Real Bed, Real Bed, Real ...   \n",
       "2                                         [Real Bed]   \n",
       "3  [Real Bed, Real Bed, Real Bed, Real Bed, Real ...   \n",
       "4                               [Real Bed, Real Bed]   \n",
       "\n",
       "                                         comodidades  \\\n",
       "0  [{Internet,\"Wireless Internet\",Kitchen,\"Free P...   \n",
       "1  [{TV,Internet,\"Wireless Internet\",Kitchen,\"Fre...   \n",
       "2  [{TV,\"Cable TV\",Internet,\"Wireless Internet\",\"...   \n",
       "3  [{Internet,\"Wireless Internet\",Kitchen,\"Free P...   \n",
       "4  [{TV,Internet,\"Wireless Internet\",Kitchen,\"Fre...   \n",
       "\n",
       "                                       taxa_deposito  \\\n",
       "0  [$0, $0, $0, $0, $0, $350.00, $350.00, $350.00...   \n",
       "1  [$500.00, $300.00, $0, $300.00, $300.00, $360....   \n",
       "2                                        [$1,000.00]   \n",
       "3  [$500.00, $500.00, $500.00, $500.00, $500.00, ...   \n",
       "4                               [$300.00, $2,000.00]   \n",
       "\n",
       "                                        taxa_limpeza  \\\n",
       "0  [$0, $0, $0, $20.00, $15.00, $28.00, $35.00, $...   \n",
       "1  [$125.00, $100.00, $85.00, $110.00, $110.00, $...   \n",
       "2                                          [$300.00]   \n",
       "3  [$225.00, $300.00, $250.00, $250.00, $250.00, ...   \n",
       "4                                  [$40.00, $150.00]   \n",
       "\n",
       "                                               preco  \n",
       "0  [$110.00, $45.00, $55.00, $52.00, $85.00, $50....  \n",
       "1  [$350.00, $300.00, $425.00, $300.00, $285.00, ...  \n",
       "2                                          [$975.00]  \n",
       "3  [$490.00, $550.00, $350.00, $350.00, $350.00, ...  \n",
       "4                                 [$200.00, $545.00]  "
      ]
     },
     "execution_count": 3,
     "metadata": {},
     "output_type": "execute_result"
    }
   ],
   "source": [
    "# desaninhar os dados\n",
    "\n",
    "dados = pd.json_normalize(df['info_moveis'])\n",
    "dados.head()"
   ]
  },
  {
   "cell_type": "code",
   "execution_count": 4,
   "metadata": {},
   "outputs": [
    {
     "data": {
      "text/plain": [
       "['avaliacao_geral',\n",
       " 'experiencia_local',\n",
       " 'max_hospedes',\n",
       " 'descricao_local',\n",
       " 'descricao_vizinhanca',\n",
       " 'quantidade_banheiros',\n",
       " 'quantidade_quartos',\n",
       " 'quantidade_camas',\n",
       " 'modelo_cama',\n",
       " 'comodidades',\n",
       " 'taxa_deposito',\n",
       " 'taxa_limpeza',\n",
       " 'preco']"
      ]
     },
     "execution_count": 4,
     "metadata": {},
     "output_type": "execute_result"
    }
   ],
   "source": [
    "colunas = list(dados.columns)\n",
    "colunas"
   ]
  },
  {
   "cell_type": "code",
   "execution_count": 5,
   "metadata": {},
   "outputs": [
    {
     "data": {
      "text/html": [
       "<div>\n",
       "<style scoped>\n",
       "    .dataframe tbody tr th:only-of-type {\n",
       "        vertical-align: middle;\n",
       "    }\n",
       "\n",
       "    .dataframe tbody tr th {\n",
       "        vertical-align: top;\n",
       "    }\n",
       "\n",
       "    .dataframe thead th {\n",
       "        text-align: right;\n",
       "    }\n",
       "</style>\n",
       "<table border=\"1\" class=\"dataframe\">\n",
       "  <thead>\n",
       "    <tr style=\"text-align: right;\">\n",
       "      <th></th>\n",
       "      <th>avaliacao_geral</th>\n",
       "      <th>experiencia_local</th>\n",
       "      <th>max_hospedes</th>\n",
       "      <th>descricao_local</th>\n",
       "      <th>descricao_vizinhanca</th>\n",
       "      <th>quantidade_banheiros</th>\n",
       "      <th>quantidade_quartos</th>\n",
       "      <th>quantidade_camas</th>\n",
       "      <th>modelo_cama</th>\n",
       "      <th>comodidades</th>\n",
       "      <th>taxa_deposito</th>\n",
       "      <th>taxa_limpeza</th>\n",
       "      <th>preco</th>\n",
       "    </tr>\n",
       "  </thead>\n",
       "  <tbody>\n",
       "    <tr>\n",
       "      <th>0</th>\n",
       "      <td>10.0</td>\n",
       "      <td>--</td>\n",
       "      <td>1</td>\n",
       "      <td>This clean and comfortable one bedroom sits ri...</td>\n",
       "      <td>Lower Queen Anne is near the Seattle Center (s...</td>\n",
       "      <td>1</td>\n",
       "      <td>1</td>\n",
       "      <td>1</td>\n",
       "      <td>Real Bed</td>\n",
       "      <td>{Internet,\"Wireless Internet\",Kitchen,\"Free Pa...</td>\n",
       "      <td>$0</td>\n",
       "      <td>$0</td>\n",
       "      <td>$110.00</td>\n",
       "    </tr>\n",
       "    <tr>\n",
       "      <th>0</th>\n",
       "      <td>10.0</td>\n",
       "      <td>--</td>\n",
       "      <td>1</td>\n",
       "      <td>Our century old Upper Queen Anne house is loca...</td>\n",
       "      <td>Upper Queen Anne is a really pleasant, unique ...</td>\n",
       "      <td>1</td>\n",
       "      <td>1</td>\n",
       "      <td>1</td>\n",
       "      <td>Futon</td>\n",
       "      <td>{TV,Internet,\"Wireless Internet\",Kitchen,\"Free...</td>\n",
       "      <td>$0</td>\n",
       "      <td>$0</td>\n",
       "      <td>$45.00</td>\n",
       "    </tr>\n",
       "    <tr>\n",
       "      <th>0</th>\n",
       "      <td>10.0</td>\n",
       "      <td>--</td>\n",
       "      <td>1</td>\n",
       "      <td>Cozy room in two-bedroom apartment along the l...</td>\n",
       "      <td>The convenience of being in Seattle but on the...</td>\n",
       "      <td>1</td>\n",
       "      <td>1</td>\n",
       "      <td>1</td>\n",
       "      <td>Futon</td>\n",
       "      <td>{TV,Internet,\"Wireless Internet\",Kitchen,\"Free...</td>\n",
       "      <td>$0</td>\n",
       "      <td>$0</td>\n",
       "      <td>$55.00</td>\n",
       "    </tr>\n",
       "    <tr>\n",
       "      <th>0</th>\n",
       "      <td>10.0</td>\n",
       "      <td>--</td>\n",
       "      <td>1</td>\n",
       "      <td>Very lovely and cozy room for one. Convenientl...</td>\n",
       "      <td>Ballard is lovely, vibrant and one of the most...</td>\n",
       "      <td>1</td>\n",
       "      <td>1</td>\n",
       "      <td>1</td>\n",
       "      <td>Pull-out Sofa</td>\n",
       "      <td>{Internet,\"Wireless Internet\",Kitchen,\"Free Pa...</td>\n",
       "      <td>$0</td>\n",
       "      <td>$20.00</td>\n",
       "      <td>$52.00</td>\n",
       "    </tr>\n",
       "    <tr>\n",
       "      <th>0</th>\n",
       "      <td>10.0</td>\n",
       "      <td>--</td>\n",
       "      <td>1</td>\n",
       "      <td>The “Studio at Mibbett Hollow' is in a Beautif...</td>\n",
       "      <td>--</td>\n",
       "      <td>1</td>\n",
       "      <td>1</td>\n",
       "      <td>1</td>\n",
       "      <td>Real Bed</td>\n",
       "      <td>{\"Wireless Internet\",Kitchen,\"Free Parking on ...</td>\n",
       "      <td>$0</td>\n",
       "      <td>$15.00</td>\n",
       "      <td>$85.00</td>\n",
       "    </tr>\n",
       "  </tbody>\n",
       "</table>\n",
       "</div>"
      ],
      "text/plain": [
       "  avaliacao_geral experiencia_local max_hospedes  \\\n",
       "0            10.0                --            1   \n",
       "0            10.0                --            1   \n",
       "0            10.0                --            1   \n",
       "0            10.0                --            1   \n",
       "0            10.0                --            1   \n",
       "\n",
       "                                     descricao_local  \\\n",
       "0  This clean and comfortable one bedroom sits ri...   \n",
       "0  Our century old Upper Queen Anne house is loca...   \n",
       "0  Cozy room in two-bedroom apartment along the l...   \n",
       "0  Very lovely and cozy room for one. Convenientl...   \n",
       "0  The “Studio at Mibbett Hollow' is in a Beautif...   \n",
       "\n",
       "                                descricao_vizinhanca quantidade_banheiros  \\\n",
       "0  Lower Queen Anne is near the Seattle Center (s...                    1   \n",
       "0  Upper Queen Anne is a really pleasant, unique ...                    1   \n",
       "0  The convenience of being in Seattle but on the...                    1   \n",
       "0  Ballard is lovely, vibrant and one of the most...                    1   \n",
       "0                                                 --                    1   \n",
       "\n",
       "  quantidade_quartos quantidade_camas    modelo_cama  \\\n",
       "0                  1                1       Real Bed   \n",
       "0                  1                1          Futon   \n",
       "0                  1                1          Futon   \n",
       "0                  1                1  Pull-out Sofa   \n",
       "0                  1                1       Real Bed   \n",
       "\n",
       "                                         comodidades taxa_deposito  \\\n",
       "0  {Internet,\"Wireless Internet\",Kitchen,\"Free Pa...            $0   \n",
       "0  {TV,Internet,\"Wireless Internet\",Kitchen,\"Free...            $0   \n",
       "0  {TV,Internet,\"Wireless Internet\",Kitchen,\"Free...            $0   \n",
       "0  {Internet,\"Wireless Internet\",Kitchen,\"Free Pa...            $0   \n",
       "0  {\"Wireless Internet\",Kitchen,\"Free Parking on ...            $0   \n",
       "\n",
       "  taxa_limpeza    preco  \n",
       "0           $0  $110.00  \n",
       "0           $0   $45.00  \n",
       "0           $0   $55.00  \n",
       "0       $20.00   $52.00  \n",
       "0       $15.00   $85.00  "
      ]
     },
     "execution_count": 5,
     "metadata": {},
     "output_type": "execute_result"
    }
   ],
   "source": [
    "# Usando o .explode() para desagrupar dados que estao em listas.\n",
    "\n",
    "dados = dados.explode(colunas[3:])\n",
    "dados.head()"
   ]
  },
  {
   "cell_type": "code",
   "execution_count": 6,
   "metadata": {},
   "outputs": [],
   "source": [
    "dados.reset_index(drop=True, inplace=True)"
   ]
  },
  {
   "cell_type": "code",
   "execution_count": 7,
   "metadata": {},
   "outputs": [
    {
     "data": {
      "text/html": [
       "<div>\n",
       "<style scoped>\n",
       "    .dataframe tbody tr th:only-of-type {\n",
       "        vertical-align: middle;\n",
       "    }\n",
       "\n",
       "    .dataframe tbody tr th {\n",
       "        vertical-align: top;\n",
       "    }\n",
       "\n",
       "    .dataframe thead th {\n",
       "        text-align: right;\n",
       "    }\n",
       "</style>\n",
       "<table border=\"1\" class=\"dataframe\">\n",
       "  <thead>\n",
       "    <tr style=\"text-align: right;\">\n",
       "      <th></th>\n",
       "      <th>avaliacao_geral</th>\n",
       "      <th>experiencia_local</th>\n",
       "      <th>max_hospedes</th>\n",
       "      <th>descricao_local</th>\n",
       "      <th>descricao_vizinhanca</th>\n",
       "      <th>quantidade_banheiros</th>\n",
       "      <th>quantidade_quartos</th>\n",
       "      <th>quantidade_camas</th>\n",
       "      <th>modelo_cama</th>\n",
       "      <th>comodidades</th>\n",
       "      <th>taxa_deposito</th>\n",
       "      <th>taxa_limpeza</th>\n",
       "      <th>preco</th>\n",
       "    </tr>\n",
       "  </thead>\n",
       "  <tbody>\n",
       "    <tr>\n",
       "      <th>0</th>\n",
       "      <td>10.0</td>\n",
       "      <td>--</td>\n",
       "      <td>1</td>\n",
       "      <td>This clean and comfortable one bedroom sits ri...</td>\n",
       "      <td>Lower Queen Anne is near the Seattle Center (s...</td>\n",
       "      <td>1</td>\n",
       "      <td>1</td>\n",
       "      <td>1</td>\n",
       "      <td>Real Bed</td>\n",
       "      <td>{Internet,\"Wireless Internet\",Kitchen,\"Free Pa...</td>\n",
       "      <td>$0</td>\n",
       "      <td>$0</td>\n",
       "      <td>$110.00</td>\n",
       "    </tr>\n",
       "    <tr>\n",
       "      <th>1</th>\n",
       "      <td>10.0</td>\n",
       "      <td>--</td>\n",
       "      <td>1</td>\n",
       "      <td>Our century old Upper Queen Anne house is loca...</td>\n",
       "      <td>Upper Queen Anne is a really pleasant, unique ...</td>\n",
       "      <td>1</td>\n",
       "      <td>1</td>\n",
       "      <td>1</td>\n",
       "      <td>Futon</td>\n",
       "      <td>{TV,Internet,\"Wireless Internet\",Kitchen,\"Free...</td>\n",
       "      <td>$0</td>\n",
       "      <td>$0</td>\n",
       "      <td>$45.00</td>\n",
       "    </tr>\n",
       "    <tr>\n",
       "      <th>2</th>\n",
       "      <td>10.0</td>\n",
       "      <td>--</td>\n",
       "      <td>1</td>\n",
       "      <td>Cozy room in two-bedroom apartment along the l...</td>\n",
       "      <td>The convenience of being in Seattle but on the...</td>\n",
       "      <td>1</td>\n",
       "      <td>1</td>\n",
       "      <td>1</td>\n",
       "      <td>Futon</td>\n",
       "      <td>{TV,Internet,\"Wireless Internet\",Kitchen,\"Free...</td>\n",
       "      <td>$0</td>\n",
       "      <td>$0</td>\n",
       "      <td>$55.00</td>\n",
       "    </tr>\n",
       "    <tr>\n",
       "      <th>3</th>\n",
       "      <td>10.0</td>\n",
       "      <td>--</td>\n",
       "      <td>1</td>\n",
       "      <td>Very lovely and cozy room for one. Convenientl...</td>\n",
       "      <td>Ballard is lovely, vibrant and one of the most...</td>\n",
       "      <td>1</td>\n",
       "      <td>1</td>\n",
       "      <td>1</td>\n",
       "      <td>Pull-out Sofa</td>\n",
       "      <td>{Internet,\"Wireless Internet\",Kitchen,\"Free Pa...</td>\n",
       "      <td>$0</td>\n",
       "      <td>$20.00</td>\n",
       "      <td>$52.00</td>\n",
       "    </tr>\n",
       "    <tr>\n",
       "      <th>4</th>\n",
       "      <td>10.0</td>\n",
       "      <td>--</td>\n",
       "      <td>1</td>\n",
       "      <td>The “Studio at Mibbett Hollow' is in a Beautif...</td>\n",
       "      <td>--</td>\n",
       "      <td>1</td>\n",
       "      <td>1</td>\n",
       "      <td>1</td>\n",
       "      <td>Real Bed</td>\n",
       "      <td>{\"Wireless Internet\",Kitchen,\"Free Parking on ...</td>\n",
       "      <td>$0</td>\n",
       "      <td>$15.00</td>\n",
       "      <td>$85.00</td>\n",
       "    </tr>\n",
       "  </tbody>\n",
       "</table>\n",
       "</div>"
      ],
      "text/plain": [
       "  avaliacao_geral experiencia_local max_hospedes  \\\n",
       "0            10.0                --            1   \n",
       "1            10.0                --            1   \n",
       "2            10.0                --            1   \n",
       "3            10.0                --            1   \n",
       "4            10.0                --            1   \n",
       "\n",
       "                                     descricao_local  \\\n",
       "0  This clean and comfortable one bedroom sits ri...   \n",
       "1  Our century old Upper Queen Anne house is loca...   \n",
       "2  Cozy room in two-bedroom apartment along the l...   \n",
       "3  Very lovely and cozy room for one. Convenientl...   \n",
       "4  The “Studio at Mibbett Hollow' is in a Beautif...   \n",
       "\n",
       "                                descricao_vizinhanca quantidade_banheiros  \\\n",
       "0  Lower Queen Anne is near the Seattle Center (s...                    1   \n",
       "1  Upper Queen Anne is a really pleasant, unique ...                    1   \n",
       "2  The convenience of being in Seattle but on the...                    1   \n",
       "3  Ballard is lovely, vibrant and one of the most...                    1   \n",
       "4                                                 --                    1   \n",
       "\n",
       "  quantidade_quartos quantidade_camas    modelo_cama  \\\n",
       "0                  1                1       Real Bed   \n",
       "1                  1                1          Futon   \n",
       "2                  1                1          Futon   \n",
       "3                  1                1  Pull-out Sofa   \n",
       "4                  1                1       Real Bed   \n",
       "\n",
       "                                         comodidades taxa_deposito  \\\n",
       "0  {Internet,\"Wireless Internet\",Kitchen,\"Free Pa...            $0   \n",
       "1  {TV,Internet,\"Wireless Internet\",Kitchen,\"Free...            $0   \n",
       "2  {TV,Internet,\"Wireless Internet\",Kitchen,\"Free...            $0   \n",
       "3  {Internet,\"Wireless Internet\",Kitchen,\"Free Pa...            $0   \n",
       "4  {\"Wireless Internet\",Kitchen,\"Free Parking on ...            $0   \n",
       "\n",
       "  taxa_limpeza    preco  \n",
       "0           $0  $110.00  \n",
       "1           $0   $45.00  \n",
       "2           $0   $55.00  \n",
       "3       $20.00   $52.00  \n",
       "4       $15.00   $85.00  "
      ]
     },
     "execution_count": 7,
     "metadata": {},
     "output_type": "execute_result"
    }
   ],
   "source": [
    "dados.head()"
   ]
  },
  {
   "cell_type": "code",
   "execution_count": 8,
   "metadata": {},
   "outputs": [
    {
     "name": "stdout",
     "output_type": "stream",
     "text": [
      "<class 'pandas.core.frame.DataFrame'>\n",
      "RangeIndex: 3818 entries, 0 to 3817\n",
      "Data columns (total 13 columns):\n",
      " #   Column                Non-Null Count  Dtype \n",
      "---  ------                --------------  ----- \n",
      " 0   avaliacao_geral       3818 non-null   object\n",
      " 1   experiencia_local     3818 non-null   object\n",
      " 2   max_hospedes          3818 non-null   object\n",
      " 3   descricao_local       3818 non-null   object\n",
      " 4   descricao_vizinhanca  3818 non-null   object\n",
      " 5   quantidade_banheiros  3818 non-null   object\n",
      " 6   quantidade_quartos    3818 non-null   object\n",
      " 7   quantidade_camas      3818 non-null   object\n",
      " 8   modelo_cama           3818 non-null   object\n",
      " 9   comodidades           3818 non-null   object\n",
      " 10  taxa_deposito         3818 non-null   object\n",
      " 11  taxa_limpeza          3818 non-null   object\n",
      " 12  preco                 3818 non-null   object\n",
      "dtypes: object(13)\n",
      "memory usage: 387.9+ KB\n"
     ]
    }
   ],
   "source": [
    "dados.info()"
   ]
  },
  {
   "cell_type": "markdown",
   "metadata": {},
   "source": [
    "## Manipulando os dados\n",
    "    Definindo e modificando os tipos dos dados de cada coluna"
   ]
  },
  {
   "cell_type": "code",
   "execution_count": 9,
   "metadata": {},
   "outputs": [],
   "source": [
    "# converter os dados para o tipo numerico, fazendo apenas de uma coluna por vez.\n",
    "\n",
    "dados['max_hospedes'] =  dados['max_hospedes'].astype(np.int64)"
   ]
  },
  {
   "cell_type": "code",
   "execution_count": 10,
   "metadata": {},
   "outputs": [
    {
     "name": "stdout",
     "output_type": "stream",
     "text": [
      "<class 'pandas.core.frame.DataFrame'>\n",
      "RangeIndex: 3818 entries, 0 to 3817\n",
      "Data columns (total 13 columns):\n",
      " #   Column                Non-Null Count  Dtype \n",
      "---  ------                --------------  ----- \n",
      " 0   avaliacao_geral       3818 non-null   object\n",
      " 1   experiencia_local     3818 non-null   object\n",
      " 2   max_hospedes          3818 non-null   int64 \n",
      " 3   descricao_local       3818 non-null   object\n",
      " 4   descricao_vizinhanca  3818 non-null   object\n",
      " 5   quantidade_banheiros  3818 non-null   object\n",
      " 6   quantidade_quartos    3818 non-null   object\n",
      " 7   quantidade_camas      3818 non-null   object\n",
      " 8   modelo_cama           3818 non-null   object\n",
      " 9   comodidades           3818 non-null   object\n",
      " 10  taxa_deposito         3818 non-null   object\n",
      " 11  taxa_limpeza          3818 non-null   object\n",
      " 12  preco                 3818 non-null   object\n",
      "dtypes: int64(1), object(12)\n",
      "memory usage: 387.9+ KB\n"
     ]
    }
   ],
   "source": [
    "dados.info()"
   ]
  },
  {
   "cell_type": "code",
   "execution_count": 11,
   "metadata": {},
   "outputs": [],
   "source": [
    "# converter os dados para o tipo numerico, fazendo pra todas as colunas de uma vez.\n",
    "\n",
    "col_numericas = ['quantidade_banheiros','quantidade_quartos','quantidade_camas']\n",
    "\n",
    "dados[col_numericas] = dados[col_numericas].astype(np.int64)"
   ]
  },
  {
   "cell_type": "code",
   "execution_count": 12,
   "metadata": {},
   "outputs": [
    {
     "name": "stdout",
     "output_type": "stream",
     "text": [
      "<class 'pandas.core.frame.DataFrame'>\n",
      "RangeIndex: 3818 entries, 0 to 3817\n",
      "Data columns (total 13 columns):\n",
      " #   Column                Non-Null Count  Dtype \n",
      "---  ------                --------------  ----- \n",
      " 0   avaliacao_geral       3818 non-null   object\n",
      " 1   experiencia_local     3818 non-null   object\n",
      " 2   max_hospedes          3818 non-null   int64 \n",
      " 3   descricao_local       3818 non-null   object\n",
      " 4   descricao_vizinhanca  3818 non-null   object\n",
      " 5   quantidade_banheiros  3818 non-null   int64 \n",
      " 6   quantidade_quartos    3818 non-null   int64 \n",
      " 7   quantidade_camas      3818 non-null   int64 \n",
      " 8   modelo_cama           3818 non-null   object\n",
      " 9   comodidades           3818 non-null   object\n",
      " 10  taxa_deposito         3818 non-null   object\n",
      " 11  taxa_limpeza          3818 non-null   object\n",
      " 12  preco                 3818 non-null   object\n",
      "dtypes: int64(4), object(9)\n",
      "memory usage: 387.9+ KB\n"
     ]
    }
   ],
   "source": [
    "dados.info()"
   ]
  },
  {
   "cell_type": "code",
   "execution_count": 13,
   "metadata": {},
   "outputs": [],
   "source": [
    "# converter a coluna avaliacao_geral para tipo float\n",
    "\n",
    "dados['avaliacao_geral'] = dados['avaliacao_geral'].astype(np.float64)  "
   ]
  },
  {
   "cell_type": "code",
   "execution_count": 14,
   "metadata": {},
   "outputs": [
    {
     "name": "stdout",
     "output_type": "stream",
     "text": [
      "<class 'pandas.core.frame.DataFrame'>\n",
      "RangeIndex: 3818 entries, 0 to 3817\n",
      "Data columns (total 13 columns):\n",
      " #   Column                Non-Null Count  Dtype  \n",
      "---  ------                --------------  -----  \n",
      " 0   avaliacao_geral       3162 non-null   float64\n",
      " 1   experiencia_local     3818 non-null   object \n",
      " 2   max_hospedes          3818 non-null   int64  \n",
      " 3   descricao_local       3818 non-null   object \n",
      " 4   descricao_vizinhanca  3818 non-null   object \n",
      " 5   quantidade_banheiros  3818 non-null   int64  \n",
      " 6   quantidade_quartos    3818 non-null   int64  \n",
      " 7   quantidade_camas      3818 non-null   int64  \n",
      " 8   modelo_cama           3818 non-null   object \n",
      " 9   comodidades           3818 non-null   object \n",
      " 10  taxa_deposito         3818 non-null   object \n",
      " 11  taxa_limpeza          3818 non-null   object \n",
      " 12  preco                 3818 non-null   object \n",
      "dtypes: float64(1), int64(4), object(8)\n",
      "memory usage: 387.9+ KB\n"
     ]
    }
   ],
   "source": [
    "dados.info()"
   ]
  },
  {
   "cell_type": "code",
   "execution_count": 15,
   "metadata": {},
   "outputs": [
    {
     "data": {
      "text/plain": [
       "0       110.0\n",
       "1        45.0\n",
       "2        55.0\n",
       "3        52.0\n",
       "4        85.0\n",
       "        ...  \n",
       "3813    299.0\n",
       "3814    199.0\n",
       "3815    400.0\n",
       "3816    250.0\n",
       "3817    350.0\n",
       "Name: preco, Length: 3818, dtype: float64"
      ]
     },
     "execution_count": 15,
     "metadata": {},
     "output_type": "execute_result"
    }
   ],
   "source": [
    "# converterndo as colunas de preco para tipo float (taxa_deposito, taxa_limpeza, preco)\n",
    "\n",
    "dados['preco'] = dados['preco'].apply(lambda x: x.replace('$','').replace(',','').strip()).astype(np.float64)\n",
    "dados['preco']"
   ]
  },
  {
   "cell_type": "code",
   "execution_count": 16,
   "metadata": {},
   "outputs": [
    {
     "name": "stdout",
     "output_type": "stream",
     "text": [
      "<class 'pandas.core.frame.DataFrame'>\n",
      "RangeIndex: 3818 entries, 0 to 3817\n",
      "Data columns (total 13 columns):\n",
      " #   Column                Non-Null Count  Dtype  \n",
      "---  ------                --------------  -----  \n",
      " 0   avaliacao_geral       3162 non-null   float64\n",
      " 1   experiencia_local     3818 non-null   object \n",
      " 2   max_hospedes          3818 non-null   int64  \n",
      " 3   descricao_local       3818 non-null   object \n",
      " 4   descricao_vizinhanca  3818 non-null   object \n",
      " 5   quantidade_banheiros  3818 non-null   int64  \n",
      " 6   quantidade_quartos    3818 non-null   int64  \n",
      " 7   quantidade_camas      3818 non-null   int64  \n",
      " 8   modelo_cama           3818 non-null   object \n",
      " 9   comodidades           3818 non-null   object \n",
      " 10  taxa_deposito         3818 non-null   object \n",
      " 11  taxa_limpeza          3818 non-null   object \n",
      " 12  preco                 3818 non-null   float64\n",
      "dtypes: float64(2), int64(4), object(7)\n",
      "memory usage: 387.9+ KB\n"
     ]
    }
   ],
   "source": [
    "dados.info()"
   ]
  },
  {
   "cell_type": "code",
   "execution_count": 17,
   "metadata": {},
   "outputs": [
    {
     "data": {
      "text/html": [
       "<div>\n",
       "<style scoped>\n",
       "    .dataframe tbody tr th:only-of-type {\n",
       "        vertical-align: middle;\n",
       "    }\n",
       "\n",
       "    .dataframe tbody tr th {\n",
       "        vertical-align: top;\n",
       "    }\n",
       "\n",
       "    .dataframe thead th {\n",
       "        text-align: right;\n",
       "    }\n",
       "</style>\n",
       "<table border=\"1\" class=\"dataframe\">\n",
       "  <thead>\n",
       "    <tr style=\"text-align: right;\">\n",
       "      <th></th>\n",
       "      <th>taxa_deposito</th>\n",
       "      <th>taxa_limpeza</th>\n",
       "    </tr>\n",
       "  </thead>\n",
       "  <tbody>\n",
       "    <tr>\n",
       "      <th>0</th>\n",
       "      <td>$0</td>\n",
       "      <td>$0</td>\n",
       "    </tr>\n",
       "    <tr>\n",
       "      <th>1</th>\n",
       "      <td>$0</td>\n",
       "      <td>$0</td>\n",
       "    </tr>\n",
       "    <tr>\n",
       "      <th>2</th>\n",
       "      <td>$0</td>\n",
       "      <td>$0</td>\n",
       "    </tr>\n",
       "    <tr>\n",
       "      <th>3</th>\n",
       "      <td>$0</td>\n",
       "      <td>$20.00</td>\n",
       "    </tr>\n",
       "    <tr>\n",
       "      <th>4</th>\n",
       "      <td>$0</td>\n",
       "      <td>$15.00</td>\n",
       "    </tr>\n",
       "    <tr>\n",
       "      <th>...</th>\n",
       "      <td>...</td>\n",
       "      <td>...</td>\n",
       "    </tr>\n",
       "    <tr>\n",
       "      <th>3813</th>\n",
       "      <td>$1,000.00</td>\n",
       "      <td>$178.00</td>\n",
       "    </tr>\n",
       "    <tr>\n",
       "      <th>3814</th>\n",
       "      <td>$0</td>\n",
       "      <td>$99.00</td>\n",
       "    </tr>\n",
       "    <tr>\n",
       "      <th>3815</th>\n",
       "      <td>$0</td>\n",
       "      <td>$0</td>\n",
       "    </tr>\n",
       "    <tr>\n",
       "      <th>3816</th>\n",
       "      <td>$1,000.00</td>\n",
       "      <td>$150.00</td>\n",
       "    </tr>\n",
       "    <tr>\n",
       "      <th>3817</th>\n",
       "      <td>$500.00</td>\n",
       "      <td>$0</td>\n",
       "    </tr>\n",
       "  </tbody>\n",
       "</table>\n",
       "<p>3818 rows × 2 columns</p>\n",
       "</div>"
      ],
      "text/plain": [
       "     taxa_deposito taxa_limpeza\n",
       "0               $0           $0\n",
       "1               $0           $0\n",
       "2               $0           $0\n",
       "3               $0       $20.00\n",
       "4               $0       $15.00\n",
       "...            ...          ...\n",
       "3813     $1,000.00      $178.00\n",
       "3814            $0       $99.00\n",
       "3815            $0           $0\n",
       "3816     $1,000.00      $150.00\n",
       "3817       $500.00           $0\n",
       "\n",
       "[3818 rows x 2 columns]"
      ]
     },
     "execution_count": 17,
     "metadata": {},
     "output_type": "execute_result"
    }
   ],
   "source": [
    "dados[['taxa_deposito','taxa_limpeza']]"
   ]
  },
  {
   "cell_type": "code",
   "execution_count": 18,
   "metadata": {},
   "outputs": [
    {
     "data": {
      "text/html": [
       "<div>\n",
       "<style scoped>\n",
       "    .dataframe tbody tr th:only-of-type {\n",
       "        vertical-align: middle;\n",
       "    }\n",
       "\n",
       "    .dataframe tbody tr th {\n",
       "        vertical-align: top;\n",
       "    }\n",
       "\n",
       "    .dataframe thead th {\n",
       "        text-align: right;\n",
       "    }\n",
       "</style>\n",
       "<table border=\"1\" class=\"dataframe\">\n",
       "  <thead>\n",
       "    <tr style=\"text-align: right;\">\n",
       "      <th></th>\n",
       "      <th>taxa_deposito</th>\n",
       "      <th>taxa_limpeza</th>\n",
       "    </tr>\n",
       "  </thead>\n",
       "  <tbody>\n",
       "    <tr>\n",
       "      <th>0</th>\n",
       "      <td>0</td>\n",
       "      <td>0</td>\n",
       "    </tr>\n",
       "    <tr>\n",
       "      <th>1</th>\n",
       "      <td>0</td>\n",
       "      <td>0</td>\n",
       "    </tr>\n",
       "    <tr>\n",
       "      <th>2</th>\n",
       "      <td>0</td>\n",
       "      <td>0</td>\n",
       "    </tr>\n",
       "    <tr>\n",
       "      <th>3</th>\n",
       "      <td>0</td>\n",
       "      <td>20.00</td>\n",
       "    </tr>\n",
       "    <tr>\n",
       "      <th>4</th>\n",
       "      <td>0</td>\n",
       "      <td>15.00</td>\n",
       "    </tr>\n",
       "    <tr>\n",
       "      <th>...</th>\n",
       "      <td>...</td>\n",
       "      <td>...</td>\n",
       "    </tr>\n",
       "    <tr>\n",
       "      <th>3813</th>\n",
       "      <td>1000.00</td>\n",
       "      <td>178.00</td>\n",
       "    </tr>\n",
       "    <tr>\n",
       "      <th>3814</th>\n",
       "      <td>0</td>\n",
       "      <td>99.00</td>\n",
       "    </tr>\n",
       "    <tr>\n",
       "      <th>3815</th>\n",
       "      <td>0</td>\n",
       "      <td>0</td>\n",
       "    </tr>\n",
       "    <tr>\n",
       "      <th>3816</th>\n",
       "      <td>1000.00</td>\n",
       "      <td>150.00</td>\n",
       "    </tr>\n",
       "    <tr>\n",
       "      <th>3817</th>\n",
       "      <td>500.00</td>\n",
       "      <td>0</td>\n",
       "    </tr>\n",
       "  </tbody>\n",
       "</table>\n",
       "<p>3818 rows × 2 columns</p>\n",
       "</div>"
      ],
      "text/plain": [
       "     taxa_deposito taxa_limpeza\n",
       "0                0            0\n",
       "1                0            0\n",
       "2                0            0\n",
       "3                0        20.00\n",
       "4                0        15.00\n",
       "...            ...          ...\n",
       "3813       1000.00       178.00\n",
       "3814             0        99.00\n",
       "3815             0            0\n",
       "3816       1000.00       150.00\n",
       "3817        500.00            0\n",
       "\n",
       "[3818 rows x 2 columns]"
      ]
     },
     "execution_count": 18,
     "metadata": {},
     "output_type": "execute_result"
    }
   ],
   "source": [
    "# fazendo com multiplas colunas\n",
    "\n",
    "dados[['taxa_deposito','taxa_limpeza']] = dados[['taxa_deposito','taxa_limpeza']].applymap(lambda x: x.replace('$','').replace(',','').strip())\n",
    "dados[['taxa_deposito','taxa_limpeza']]"
   ]
  },
  {
   "cell_type": "code",
   "execution_count": 19,
   "metadata": {},
   "outputs": [
    {
     "data": {
      "text/html": [
       "<div>\n",
       "<style scoped>\n",
       "    .dataframe tbody tr th:only-of-type {\n",
       "        vertical-align: middle;\n",
       "    }\n",
       "\n",
       "    .dataframe tbody tr th {\n",
       "        vertical-align: top;\n",
       "    }\n",
       "\n",
       "    .dataframe thead th {\n",
       "        text-align: right;\n",
       "    }\n",
       "</style>\n",
       "<table border=\"1\" class=\"dataframe\">\n",
       "  <thead>\n",
       "    <tr style=\"text-align: right;\">\n",
       "      <th></th>\n",
       "      <th>taxa_deposito</th>\n",
       "      <th>taxa_limpeza</th>\n",
       "    </tr>\n",
       "  </thead>\n",
       "  <tbody>\n",
       "    <tr>\n",
       "      <th>0</th>\n",
       "      <td>0.0</td>\n",
       "      <td>0.0</td>\n",
       "    </tr>\n",
       "    <tr>\n",
       "      <th>1</th>\n",
       "      <td>0.0</td>\n",
       "      <td>0.0</td>\n",
       "    </tr>\n",
       "    <tr>\n",
       "      <th>2</th>\n",
       "      <td>0.0</td>\n",
       "      <td>0.0</td>\n",
       "    </tr>\n",
       "    <tr>\n",
       "      <th>3</th>\n",
       "      <td>0.0</td>\n",
       "      <td>20.0</td>\n",
       "    </tr>\n",
       "    <tr>\n",
       "      <th>4</th>\n",
       "      <td>0.0</td>\n",
       "      <td>15.0</td>\n",
       "    </tr>\n",
       "    <tr>\n",
       "      <th>...</th>\n",
       "      <td>...</td>\n",
       "      <td>...</td>\n",
       "    </tr>\n",
       "    <tr>\n",
       "      <th>3813</th>\n",
       "      <td>1000.0</td>\n",
       "      <td>178.0</td>\n",
       "    </tr>\n",
       "    <tr>\n",
       "      <th>3814</th>\n",
       "      <td>0.0</td>\n",
       "      <td>99.0</td>\n",
       "    </tr>\n",
       "    <tr>\n",
       "      <th>3815</th>\n",
       "      <td>0.0</td>\n",
       "      <td>0.0</td>\n",
       "    </tr>\n",
       "    <tr>\n",
       "      <th>3816</th>\n",
       "      <td>1000.0</td>\n",
       "      <td>150.0</td>\n",
       "    </tr>\n",
       "    <tr>\n",
       "      <th>3817</th>\n",
       "      <td>500.0</td>\n",
       "      <td>0.0</td>\n",
       "    </tr>\n",
       "  </tbody>\n",
       "</table>\n",
       "<p>3818 rows × 2 columns</p>\n",
       "</div>"
      ],
      "text/plain": [
       "      taxa_deposito  taxa_limpeza\n",
       "0               0.0           0.0\n",
       "1               0.0           0.0\n",
       "2               0.0           0.0\n",
       "3               0.0          20.0\n",
       "4               0.0          15.0\n",
       "...             ...           ...\n",
       "3813         1000.0         178.0\n",
       "3814            0.0          99.0\n",
       "3815            0.0           0.0\n",
       "3816         1000.0         150.0\n",
       "3817          500.0           0.0\n",
       "\n",
       "[3818 rows x 2 columns]"
      ]
     },
     "execution_count": 19,
     "metadata": {},
     "output_type": "execute_result"
    }
   ],
   "source": [
    "dados[['taxa_deposito','taxa_limpeza']] = dados[['taxa_deposito','taxa_limpeza']].astype(np.float64)\n",
    "dados[['taxa_deposito','taxa_limpeza']]"
   ]
  },
  {
   "cell_type": "code",
   "execution_count": 20,
   "metadata": {},
   "outputs": [
    {
     "name": "stdout",
     "output_type": "stream",
     "text": [
      "<class 'pandas.core.frame.DataFrame'>\n",
      "RangeIndex: 3818 entries, 0 to 3817\n",
      "Data columns (total 13 columns):\n",
      " #   Column                Non-Null Count  Dtype  \n",
      "---  ------                --------------  -----  \n",
      " 0   avaliacao_geral       3162 non-null   float64\n",
      " 1   experiencia_local     3818 non-null   object \n",
      " 2   max_hospedes          3818 non-null   int64  \n",
      " 3   descricao_local       3818 non-null   object \n",
      " 4   descricao_vizinhanca  3818 non-null   object \n",
      " 5   quantidade_banheiros  3818 non-null   int64  \n",
      " 6   quantidade_quartos    3818 non-null   int64  \n",
      " 7   quantidade_camas      3818 non-null   int64  \n",
      " 8   modelo_cama           3818 non-null   object \n",
      " 9   comodidades           3818 non-null   object \n",
      " 10  taxa_deposito         3818 non-null   float64\n",
      " 11  taxa_limpeza          3818 non-null   float64\n",
      " 12  preco                 3818 non-null   float64\n",
      "dtypes: float64(4), int64(4), object(5)\n",
      "memory usage: 387.9+ KB\n"
     ]
    }
   ],
   "source": [
    "dados.info()"
   ]
  },
  {
   "cell_type": "code",
   "execution_count": null,
   "metadata": {},
   "outputs": [],
   "source": []
  },
  {
   "cell_type": "markdown",
   "metadata": {},
   "source": [
    "## Manipulando os textos\n",
    "    Manipulação dos textos de cada coluna textual para criar uma estrutura de tokenização simples"
   ]
  },
  {
   "cell_type": "code",
   "execution_count": 21,
   "metadata": {},
   "outputs": [
    {
     "data": {
      "text/plain": [
       "avaliacao_geral         float64\n",
       "experiencia_local        object\n",
       "max_hospedes              int64\n",
       "descricao_local          object\n",
       "descricao_vizinhanca     object\n",
       "quantidade_banheiros      int64\n",
       "quantidade_quartos        int64\n",
       "quantidade_camas          int64\n",
       "modelo_cama              object\n",
       "comodidades              object\n",
       "taxa_deposito           float64\n",
       "taxa_limpeza            float64\n",
       "preco                   float64\n",
       "dtype: object"
      ]
     },
     "execution_count": 21,
     "metadata": {},
     "output_type": "execute_result"
    }
   ],
   "source": [
    "dados.dtypes"
   ]
  },
  {
   "cell_type": "markdown",
   "metadata": {},
   "source": [
    "### Coluna descricao_local"
   ]
  },
  {
   "cell_type": "code",
   "execution_count": 22,
   "metadata": {},
   "outputs": [
    {
     "data": {
      "text/plain": [
       "0       this clean and comfortable one bedroom sits ri...\n",
       "1       our century old upper queen anne house is loca...\n",
       "2       cozy room in two-bedroom apartment along the l...\n",
       "3       very lovely and cozy room for one. convenientl...\n",
       "4       the “studio at mibbett hollow' is in a beautif...\n",
       "                              ...                        \n",
       "3813    beautiful craftsman home in the historic wedgw...\n",
       "3814    located in a very easily accessible area of se...\n",
       "3815    this home is fully furnished and available wee...\n",
       "3816    this business-themed modern home features:  *h...\n",
       "3817    this welcoming home is in the quiet residentia...\n",
       "Name: descricao_local, Length: 3818, dtype: object"
      ]
     },
     "execution_count": 22,
     "metadata": {},
     "output_type": "execute_result"
    }
   ],
   "source": [
    "# alterar a coluna descricao_local para letras minusculas\n",
    "\n",
    "dados['descricao_local'] = dados['descricao_local'].str.lower()\n",
    "dados['descricao_local']"
   ]
  },
  {
   "cell_type": "code",
   "execution_count": 23,
   "metadata": {},
   "outputs": [
    {
     "data": {
      "text/plain": [
       "0       this clean and comfortable one bedroom sits ri...\n",
       "1       our century old upper queen anne house is loca...\n",
       "2       cozy room in two-bedroom apartment along the l...\n",
       "3       very lovely and cozy room for one  convenientl...\n",
       "4       the  studio at mibbett hollow' is in a beautif...\n",
       "                              ...                        \n",
       "3813    beautiful craftsman home in the historic wedgw...\n",
       "3814    located in a very easily accessible area of se...\n",
       "3815    this home is fully furnished and available wee...\n",
       "3816    this business-themed modern home features    h...\n",
       "3817    this welcoming home is in the quiet residentia...\n",
       "Name: descricao_local, Length: 3818, dtype: object"
      ]
     },
     "execution_count": 23,
     "metadata": {},
     "output_type": "execute_result"
    }
   ],
   "source": [
    "# remover os caracteres especiais da coluna descricao_local usando regex\n",
    "\n",
    "dados['descricao_local'] = dados['descricao_local'].str.replace('[^a-zA-Z0-9\\-\\']', ' ', regex=True)\n",
    "dados['descricao_local']"
   ]
  },
  {
   "cell_type": "code",
   "execution_count": 24,
   "metadata": {},
   "outputs": [
    {
     "data": {
      "text/plain": [
       "0       this clean and comfortable one bedroom sits ri...\n",
       "1       our century old upper queen anne house is loca...\n",
       "2       cozy room in two-bedroom apartment along the l...\n",
       "3       very lovely and cozy room for one  convenientl...\n",
       "4       the  studio at mibbett hollow' is in a beautif...\n",
       "                              ...                        \n",
       "3813    beautiful craftsman home in the historic wedgw...\n",
       "3814    located in a very easily accessible area of se...\n",
       "3815    this home is fully furnished and available wee...\n",
       "3816    this business-themed modern home features    h...\n",
       "3817    this welcoming home is in the quiet residentia...\n",
       "Name: descricao_local, Length: 3818, dtype: object"
      ]
     },
     "execution_count": 24,
     "metadata": {},
     "output_type": "execute_result"
    }
   ],
   "source": [
    "# remover hifen que nao acompanha palavras compostas\n",
    "\n",
    "dados['descricao_local'].str.replace('(?<!\\w)-(?!\\w)', '', regex=True)"
   ]
  },
  {
   "cell_type": "code",
   "execution_count": 25,
   "metadata": {},
   "outputs": [
    {
     "data": {
      "text/plain": [
       "0       [this, clean, and, comfortable, one, bedroom, ...\n",
       "1       [our, century, old, upper, queen, anne, house,...\n",
       "2       [cozy, room, in, two-bedroom, apartment, along...\n",
       "3       [very, lovely, and, cozy, room, for, one, conv...\n",
       "4       [the, studio, at, mibbett, hollow', is, in, a,...\n",
       "                              ...                        \n",
       "3813    [beautiful, craftsman, home, in, the, historic...\n",
       "3814    [located, in, a, very, easily, accessible, are...\n",
       "3815    [this, home, is, fully, furnished, and, availa...\n",
       "3816    [this, business-themed, modern, home, features...\n",
       "3817    [this, welcoming, home, is, in, the, quiet, re...\n",
       "Name: descricao_local, Length: 3818, dtype: object"
      ]
     },
     "execution_count": 25,
     "metadata": {},
     "output_type": "execute_result"
    }
   ],
   "source": [
    "# criando tokens\n",
    "\n",
    "dados['descricao_local'] = dados['descricao_local'].str.split()\n",
    "dados['descricao_local']"
   ]
  },
  {
   "cell_type": "code",
   "execution_count": null,
   "metadata": {},
   "outputs": [],
   "source": []
  },
  {
   "cell_type": "markdown",
   "metadata": {},
   "source": [
    "### Coluna comodidades"
   ]
  },
  {
   "cell_type": "code",
   "execution_count": 26,
   "metadata": {},
   "outputs": [
    {
     "data": {
      "text/plain": [
       "0       {Internet,\"Wireless Internet\",Kitchen,\"Free Pa...\n",
       "1       {TV,Internet,\"Wireless Internet\",Kitchen,\"Free...\n",
       "2       {TV,Internet,\"Wireless Internet\",Kitchen,\"Free...\n",
       "3       {Internet,\"Wireless Internet\",Kitchen,\"Free Pa...\n",
       "4       {\"Wireless Internet\",Kitchen,\"Free Parking on ...\n",
       "                              ...                        \n",
       "3813    {TV,\"Cable TV\",Internet,\"Wireless Internet\",\"A...\n",
       "3814    {TV,\"Cable TV\",Internet,\"Wireless Internet\",Ki...\n",
       "3815    {TV,\"Cable TV\",Internet,\"Wireless Internet\",\"A...\n",
       "3816    {TV,\"Cable TV\",Internet,\"Wireless Internet\",\"A...\n",
       "3817    {TV,Internet,\"Wireless Internet\",Kitchen,\"Free...\n",
       "Name: comodidades, Length: 3818, dtype: object"
      ]
     },
     "execution_count": 26,
     "metadata": {},
     "output_type": "execute_result"
    }
   ],
   "source": [
    "dados['comodidades']"
   ]
  },
  {
   "cell_type": "code",
   "execution_count": 27,
   "metadata": {},
   "outputs": [
    {
     "data": {
      "text/plain": [
       "0       Internet,Wireless Internet,Kitchen,Free Parkin...\n",
       "1       TV,Internet,Wireless Internet,Kitchen,Free Par...\n",
       "2       TV,Internet,Wireless Internet,Kitchen,Free Par...\n",
       "3       Internet,Wireless Internet,Kitchen,Free Parkin...\n",
       "4       Wireless Internet,Kitchen,Free Parking on Prem...\n",
       "                              ...                        \n",
       "3813    TV,Cable TV,Internet,Wireless Internet,Air Con...\n",
       "3814    TV,Cable TV,Internet,Wireless Internet,Kitchen...\n",
       "3815    TV,Cable TV,Internet,Wireless Internet,Air Con...\n",
       "3816    TV,Cable TV,Internet,Wireless Internet,Air Con...\n",
       "3817    TV,Internet,Wireless Internet,Kitchen,Free Par...\n",
       "Name: comodidades, Length: 3818, dtype: object"
      ]
     },
     "execution_count": 27,
     "metadata": {},
     "output_type": "execute_result"
    }
   ],
   "source": [
    "# remover {} e aspas simples da coluna comodidades\n",
    "\n",
    "dados['comodidades'] = dados['comodidades'].str.replace('\\{|}|\\\"','', regex=True)\n",
    "dados['comodidades']"
   ]
  },
  {
   "cell_type": "code",
   "execution_count": 28,
   "metadata": {},
   "outputs": [
    {
     "data": {
      "text/plain": [
       "0       [Internet, Wireless Internet, Kitchen, Free Pa...\n",
       "1       [TV, Internet, Wireless Internet, Kitchen, Fre...\n",
       "2       [TV, Internet, Wireless Internet, Kitchen, Fre...\n",
       "3       [Internet, Wireless Internet, Kitchen, Free Pa...\n",
       "4       [Wireless Internet, Kitchen, Free Parking on P...\n",
       "                              ...                        \n",
       "3813    [TV, Cable TV, Internet, Wireless Internet, Ai...\n",
       "3814    [TV, Cable TV, Internet, Wireless Internet, Ki...\n",
       "3815    [TV, Cable TV, Internet, Wireless Internet, Ai...\n",
       "3816    [TV, Cable TV, Internet, Wireless Internet, Ai...\n",
       "3817    [TV, Internet, Wireless Internet, Kitchen, Fre...\n",
       "Name: comodidades, Length: 3818, dtype: object"
      ]
     },
     "execution_count": 28,
     "metadata": {},
     "output_type": "execute_result"
    }
   ],
   "source": [
    "# criando tokens\n",
    "\n",
    "dados['comodidades'] = dados['comodidades'].str.split(',')\n",
    "dados['comodidades']"
   ]
  },
  {
   "cell_type": "code",
   "execution_count": null,
   "metadata": {},
   "outputs": [],
   "source": []
  },
  {
   "cell_type": "markdown",
   "metadata": {},
   "source": [
    "### Coluna descricao_vizinhanca "
   ]
  },
  {
   "cell_type": "code",
   "execution_count": 29,
   "metadata": {},
   "outputs": [
    {
     "data": {
      "text/plain": [
       "0       lower queen anne is near the seattle center (s...\n",
       "1       upper queen anne is a really pleasant, unique ...\n",
       "2       the convenience of being in seattle but on the...\n",
       "3       ballard is lovely, vibrant and one of the most...\n",
       "4                                                      --\n",
       "                              ...                        \n",
       "3813                                                   --\n",
       "3814    quiet, dead end street near i-5. the proximity...\n",
       "3815                                                   --\n",
       "3816    your hosts made madison valley their home when...\n",
       "3817    despite the quiet, leafy streets of this resid...\n",
       "Name: descricao_vizinhanca, Length: 3818, dtype: object"
      ]
     },
     "execution_count": 29,
     "metadata": {},
     "output_type": "execute_result"
    }
   ],
   "source": [
    "# alterar a coluna descricao_local para letras minusculas\n",
    "\n",
    "dados['descricao_vizinhanca'] = dados['descricao_vizinhanca'].str.lower()\n",
    "dados['descricao_vizinhanca']"
   ]
  },
  {
   "cell_type": "code",
   "execution_count": 30,
   "metadata": {},
   "outputs": [
    {
     "data": {
      "text/plain": [
       "0       lower queen anne is near the seattle center  s...\n",
       "1       upper queen anne is a really pleasant  unique ...\n",
       "2       the convenience of being in seattle but on the...\n",
       "3       ballard is lovely  vibrant and one of the most...\n",
       "4                                                      --\n",
       "                              ...                        \n",
       "3813                                                   --\n",
       "3814    quiet  dead end street near i-5  the proximity...\n",
       "3815                                                   --\n",
       "3816    your hosts made madison valley their home when...\n",
       "3817    despite the quiet  leafy streets of this resid...\n",
       "Name: descricao_vizinhanca, Length: 3818, dtype: object"
      ]
     },
     "execution_count": 30,
     "metadata": {},
     "output_type": "execute_result"
    }
   ],
   "source": [
    "# remover os caracteres especiais da coluna descricao_local usando regex\n",
    "\n",
    "dados['descricao_vizinhanca'] = dados['descricao_vizinhanca'].str.replace('[^a-zA-Z0-9\\-\\']', ' ', regex=True)\n",
    "dados['descricao_vizinhanca']"
   ]
  },
  {
   "cell_type": "code",
   "execution_count": 31,
   "metadata": {},
   "outputs": [
    {
     "data": {
      "text/plain": [
       "0       lower queen anne is near the seattle center  s...\n",
       "1       upper queen anne is a really pleasant  unique ...\n",
       "2       the convenience of being in seattle but on the...\n",
       "3       ballard is lovely  vibrant and one of the most...\n",
       "4                                                        \n",
       "                              ...                        \n",
       "3813                                                     \n",
       "3814    quiet  dead end street near i-5  the proximity...\n",
       "3815                                                     \n",
       "3816    your hosts made madison valley their home when...\n",
       "3817    despite the quiet  leafy streets of this resid...\n",
       "Name: descricao_vizinhanca, Length: 3818, dtype: object"
      ]
     },
     "execution_count": 31,
     "metadata": {},
     "output_type": "execute_result"
    }
   ],
   "source": [
    "# remover hifen que nao acompanha palavras compostas\n",
    "\n",
    "dados['descricao_vizinhanca'] = dados['descricao_vizinhanca'].str.replace('(?<!\\w)-(?!\\w)', '', regex=True)\n",
    "dados['descricao_vizinhanca']"
   ]
  },
  {
   "cell_type": "code",
   "execution_count": 32,
   "metadata": {},
   "outputs": [
    {
     "data": {
      "text/plain": [
       "0       lower queen anne is near the seattle center sp...\n",
       "1       upper queen anne is a really pleasant unique l...\n",
       "2       the convenience of being in seattle but on the...\n",
       "3       ballard is lovely vibrant and one of the most ...\n",
       "4                                                        \n",
       "                              ...                        \n",
       "3813                                                     \n",
       "3814    quiet dead end street near i-5 the proximity t...\n",
       "3815                                                     \n",
       "3816    your hosts made madison valley their home when...\n",
       "3817    despite the quiet leafy streets of this reside...\n",
       "Name: descricao_vizinhanca, Length: 3818, dtype: object"
      ]
     },
     "execution_count": 32,
     "metadata": {},
     "output_type": "execute_result"
    }
   ],
   "source": [
    "# remover duplo espaço\n",
    "\n",
    "dados['descricao_vizinhanca'] = dados['descricao_vizinhanca'].str.replace('  ', ' ', regex=True)\n",
    "dados['descricao_vizinhanca']"
   ]
  },
  {
   "cell_type": "code",
   "execution_count": 33,
   "metadata": {},
   "outputs": [
    {
     "data": {
      "text/plain": [
       "0       [lower, queen, anne, is, near, the, seattle, c...\n",
       "1       [upper, queen, anne, is, a, really, pleasant, ...\n",
       "2       [the, convenience, of, being, in, seattle, but...\n",
       "3       [ballard, is, lovely, vibrant, and, one, of, t...\n",
       "4                                                      []\n",
       "                              ...                        \n",
       "3813                                                   []\n",
       "3814    [quiet, dead, end, street, near, i-5, the, pro...\n",
       "3815                                                   []\n",
       "3816    [your, hosts, made, madison, valley, their, ho...\n",
       "3817    [despite, the, quiet, leafy, streets, of, this...\n",
       "Name: descricao_vizinhanca, Length: 3818, dtype: object"
      ]
     },
     "execution_count": 33,
     "metadata": {},
     "output_type": "execute_result"
    }
   ],
   "source": [
    "#  criando tokens\n",
    "\n",
    "dados['descricao_vizinhanca'] = dados['descricao_vizinhanca'].str.split()\n",
    "dados['descricao_vizinhanca']"
   ]
  },
  {
   "cell_type": "code",
   "execution_count": 34,
   "metadata": {},
   "outputs": [
    {
     "data": {
      "text/html": [
       "<div>\n",
       "<style scoped>\n",
       "    .dataframe tbody tr th:only-of-type {\n",
       "        vertical-align: middle;\n",
       "    }\n",
       "\n",
       "    .dataframe tbody tr th {\n",
       "        vertical-align: top;\n",
       "    }\n",
       "\n",
       "    .dataframe thead th {\n",
       "        text-align: right;\n",
       "    }\n",
       "</style>\n",
       "<table border=\"1\" class=\"dataframe\">\n",
       "  <thead>\n",
       "    <tr style=\"text-align: right;\">\n",
       "      <th></th>\n",
       "      <th>avaliacao_geral</th>\n",
       "      <th>experiencia_local</th>\n",
       "      <th>max_hospedes</th>\n",
       "      <th>descricao_local</th>\n",
       "      <th>descricao_vizinhanca</th>\n",
       "      <th>quantidade_banheiros</th>\n",
       "      <th>quantidade_quartos</th>\n",
       "      <th>quantidade_camas</th>\n",
       "      <th>modelo_cama</th>\n",
       "      <th>comodidades</th>\n",
       "      <th>taxa_deposito</th>\n",
       "      <th>taxa_limpeza</th>\n",
       "      <th>preco</th>\n",
       "    </tr>\n",
       "  </thead>\n",
       "  <tbody>\n",
       "    <tr>\n",
       "      <th>0</th>\n",
       "      <td>10.0</td>\n",
       "      <td>--</td>\n",
       "      <td>1</td>\n",
       "      <td>[this, clean, and, comfortable, one, bedroom, ...</td>\n",
       "      <td>[lower, queen, anne, is, near, the, seattle, c...</td>\n",
       "      <td>1</td>\n",
       "      <td>1</td>\n",
       "      <td>1</td>\n",
       "      <td>Real Bed</td>\n",
       "      <td>[Internet, Wireless Internet, Kitchen, Free Pa...</td>\n",
       "      <td>0.0</td>\n",
       "      <td>0.0</td>\n",
       "      <td>110.0</td>\n",
       "    </tr>\n",
       "    <tr>\n",
       "      <th>1</th>\n",
       "      <td>10.0</td>\n",
       "      <td>--</td>\n",
       "      <td>1</td>\n",
       "      <td>[our, century, old, upper, queen, anne, house,...</td>\n",
       "      <td>[upper, queen, anne, is, a, really, pleasant, ...</td>\n",
       "      <td>1</td>\n",
       "      <td>1</td>\n",
       "      <td>1</td>\n",
       "      <td>Futon</td>\n",
       "      <td>[TV, Internet, Wireless Internet, Kitchen, Fre...</td>\n",
       "      <td>0.0</td>\n",
       "      <td>0.0</td>\n",
       "      <td>45.0</td>\n",
       "    </tr>\n",
       "    <tr>\n",
       "      <th>2</th>\n",
       "      <td>10.0</td>\n",
       "      <td>--</td>\n",
       "      <td>1</td>\n",
       "      <td>[cozy, room, in, two-bedroom, apartment, along...</td>\n",
       "      <td>[the, convenience, of, being, in, seattle, but...</td>\n",
       "      <td>1</td>\n",
       "      <td>1</td>\n",
       "      <td>1</td>\n",
       "      <td>Futon</td>\n",
       "      <td>[TV, Internet, Wireless Internet, Kitchen, Fre...</td>\n",
       "      <td>0.0</td>\n",
       "      <td>0.0</td>\n",
       "      <td>55.0</td>\n",
       "    </tr>\n",
       "    <tr>\n",
       "      <th>3</th>\n",
       "      <td>10.0</td>\n",
       "      <td>--</td>\n",
       "      <td>1</td>\n",
       "      <td>[very, lovely, and, cozy, room, for, one, conv...</td>\n",
       "      <td>[ballard, is, lovely, vibrant, and, one, of, t...</td>\n",
       "      <td>1</td>\n",
       "      <td>1</td>\n",
       "      <td>1</td>\n",
       "      <td>Pull-out Sofa</td>\n",
       "      <td>[Internet, Wireless Internet, Kitchen, Free Pa...</td>\n",
       "      <td>0.0</td>\n",
       "      <td>20.0</td>\n",
       "      <td>52.0</td>\n",
       "    </tr>\n",
       "    <tr>\n",
       "      <th>4</th>\n",
       "      <td>10.0</td>\n",
       "      <td>--</td>\n",
       "      <td>1</td>\n",
       "      <td>[the, studio, at, mibbett, hollow', is, in, a,...</td>\n",
       "      <td>[]</td>\n",
       "      <td>1</td>\n",
       "      <td>1</td>\n",
       "      <td>1</td>\n",
       "      <td>Real Bed</td>\n",
       "      <td>[Wireless Internet, Kitchen, Free Parking on P...</td>\n",
       "      <td>0.0</td>\n",
       "      <td>15.0</td>\n",
       "      <td>85.0</td>\n",
       "    </tr>\n",
       "  </tbody>\n",
       "</table>\n",
       "</div>"
      ],
      "text/plain": [
       "   avaliacao_geral experiencia_local  max_hospedes  \\\n",
       "0             10.0                --             1   \n",
       "1             10.0                --             1   \n",
       "2             10.0                --             1   \n",
       "3             10.0                --             1   \n",
       "4             10.0                --             1   \n",
       "\n",
       "                                     descricao_local  \\\n",
       "0  [this, clean, and, comfortable, one, bedroom, ...   \n",
       "1  [our, century, old, upper, queen, anne, house,...   \n",
       "2  [cozy, room, in, two-bedroom, apartment, along...   \n",
       "3  [very, lovely, and, cozy, room, for, one, conv...   \n",
       "4  [the, studio, at, mibbett, hollow', is, in, a,...   \n",
       "\n",
       "                                descricao_vizinhanca  quantidade_banheiros  \\\n",
       "0  [lower, queen, anne, is, near, the, seattle, c...                     1   \n",
       "1  [upper, queen, anne, is, a, really, pleasant, ...                     1   \n",
       "2  [the, convenience, of, being, in, seattle, but...                     1   \n",
       "3  [ballard, is, lovely, vibrant, and, one, of, t...                     1   \n",
       "4                                                 []                     1   \n",
       "\n",
       "   quantidade_quartos  quantidade_camas    modelo_cama  \\\n",
       "0                   1                 1       Real Bed   \n",
       "1                   1                 1          Futon   \n",
       "2                   1                 1          Futon   \n",
       "3                   1                 1  Pull-out Sofa   \n",
       "4                   1                 1       Real Bed   \n",
       "\n",
       "                                         comodidades  taxa_deposito  \\\n",
       "0  [Internet, Wireless Internet, Kitchen, Free Pa...            0.0   \n",
       "1  [TV, Internet, Wireless Internet, Kitchen, Fre...            0.0   \n",
       "2  [TV, Internet, Wireless Internet, Kitchen, Fre...            0.0   \n",
       "3  [Internet, Wireless Internet, Kitchen, Free Pa...            0.0   \n",
       "4  [Wireless Internet, Kitchen, Free Parking on P...            0.0   \n",
       "\n",
       "   taxa_limpeza  preco  \n",
       "0           0.0  110.0  \n",
       "1           0.0   45.0  \n",
       "2           0.0   55.0  \n",
       "3          20.0   52.0  \n",
       "4          15.0   85.0  "
      ]
     },
     "execution_count": 34,
     "metadata": {},
     "output_type": "execute_result"
    }
   ],
   "source": [
    "dados.head()"
   ]
  },
  {
   "cell_type": "code",
   "execution_count": null,
   "metadata": {},
   "outputs": [],
   "source": []
  },
  {
   "cell_type": "markdown",
   "metadata": {},
   "source": [
    "## Manipulando a base moveis_disponiveis"
   ]
  },
  {
   "cell_type": "code",
   "execution_count": 83,
   "metadata": {},
   "outputs": [
    {
     "data": {
      "text/html": [
       "<div>\n",
       "<style scoped>\n",
       "    .dataframe tbody tr th:only-of-type {\n",
       "        vertical-align: middle;\n",
       "    }\n",
       "\n",
       "    .dataframe tbody tr th {\n",
       "        vertical-align: top;\n",
       "    }\n",
       "\n",
       "    .dataframe thead th {\n",
       "        text-align: right;\n",
       "    }\n",
       "</style>\n",
       "<table border=\"1\" class=\"dataframe\">\n",
       "  <thead>\n",
       "    <tr style=\"text-align: right;\">\n",
       "      <th></th>\n",
       "      <th>id</th>\n",
       "      <th>data</th>\n",
       "      <th>vaga_disponivel</th>\n",
       "      <th>preco</th>\n",
       "    </tr>\n",
       "  </thead>\n",
       "  <tbody>\n",
       "    <tr>\n",
       "      <th>0</th>\n",
       "      <td>857</td>\n",
       "      <td>2016-01-04</td>\n",
       "      <td>False</td>\n",
       "      <td>None</td>\n",
       "    </tr>\n",
       "    <tr>\n",
       "      <th>1</th>\n",
       "      <td>857</td>\n",
       "      <td>2016-01-05</td>\n",
       "      <td>False</td>\n",
       "      <td>None</td>\n",
       "    </tr>\n",
       "    <tr>\n",
       "      <th>2</th>\n",
       "      <td>857</td>\n",
       "      <td>2016-01-06</td>\n",
       "      <td>False</td>\n",
       "      <td>None</td>\n",
       "    </tr>\n",
       "    <tr>\n",
       "      <th>3</th>\n",
       "      <td>857</td>\n",
       "      <td>2016-01-07</td>\n",
       "      <td>False</td>\n",
       "      <td>None</td>\n",
       "    </tr>\n",
       "    <tr>\n",
       "      <th>4</th>\n",
       "      <td>857</td>\n",
       "      <td>2016-01-08</td>\n",
       "      <td>False</td>\n",
       "      <td>None</td>\n",
       "    </tr>\n",
       "  </tbody>\n",
       "</table>\n",
       "</div>"
      ],
      "text/plain": [
       "    id        data  vaga_disponivel preco\n",
       "0  857  2016-01-04            False  None\n",
       "1  857  2016-01-05            False  None\n",
       "2  857  2016-01-06            False  None\n",
       "3  857  2016-01-07            False  None\n",
       "4  857  2016-01-08            False  None"
      ]
     },
     "execution_count": 83,
     "metadata": {},
     "output_type": "execute_result"
    }
   ],
   "source": [
    "dt_data = pd.read_json('moveis_disponiveis.json')\n",
    "dt_data.head()"
   ]
  },
  {
   "cell_type": "code",
   "execution_count": 84,
   "metadata": {},
   "outputs": [
    {
     "name": "stdout",
     "output_type": "stream",
     "text": [
      "<class 'pandas.core.frame.DataFrame'>\n",
      "Int64Index: 365000 entries, 0 to 364999\n",
      "Data columns (total 4 columns):\n",
      " #   Column           Non-Null Count   Dtype \n",
      "---  ------           --------------   ----- \n",
      " 0   id               365000 non-null  int64 \n",
      " 1   data             365000 non-null  object\n",
      " 2   vaga_disponivel  365000 non-null  bool  \n",
      " 3   preco            270547 non-null  object\n",
      "dtypes: bool(1), int64(1), object(2)\n",
      "memory usage: 11.5+ MB\n"
     ]
    }
   ],
   "source": [
    "dt_data.info()"
   ]
  },
  {
   "cell_type": "code",
   "execution_count": 85,
   "metadata": {},
   "outputs": [
    {
     "data": {
      "text/plain": [
       "0        2016-01-04\n",
       "1        2016-01-05\n",
       "2        2016-01-06\n",
       "3        2016-01-07\n",
       "4        2016-01-08\n",
       "            ...    \n",
       "364995   2016-12-29\n",
       "364996   2016-12-30\n",
       "364997   2016-12-31\n",
       "364998   2017-01-01\n",
       "364999   2017-01-02\n",
       "Name: data, Length: 365000, dtype: datetime64[ns]"
      ]
     },
     "execution_count": 85,
     "metadata": {},
     "output_type": "execute_result"
    }
   ],
   "source": [
    "# converter a coluna data para tipo datetime\n",
    "\n",
    "dt_data['data'] = pd.to_datetime(dt_data['data'])\n",
    "dt_data['data']"
   ]
  },
  {
   "cell_type": "code",
   "execution_count": 86,
   "metadata": {},
   "outputs": [
    {
     "name": "stdout",
     "output_type": "stream",
     "text": [
      "<class 'pandas.core.frame.DataFrame'>\n",
      "Int64Index: 365000 entries, 0 to 364999\n",
      "Data columns (total 4 columns):\n",
      " #   Column           Non-Null Count   Dtype         \n",
      "---  ------           --------------   -----         \n",
      " 0   id               365000 non-null  int64         \n",
      " 1   data             365000 non-null  datetime64[ns]\n",
      " 2   vaga_disponivel  365000 non-null  bool          \n",
      " 3   preco            270547 non-null  object        \n",
      "dtypes: bool(1), datetime64[ns](1), int64(1), object(1)\n",
      "memory usage: 11.5+ MB\n"
     ]
    }
   ],
   "source": [
    "dt_data.info()"
   ]
  },
  {
   "cell_type": "code",
   "execution_count": 87,
   "metadata": {},
   "outputs": [
    {
     "data": {
      "text/plain": [
       "0         2016-01\n",
       "1         2016-01\n",
       "2         2016-01\n",
       "3         2016-01\n",
       "4         2016-01\n",
       "           ...   \n",
       "364995    2016-12\n",
       "364996    2016-12\n",
       "364997    2016-12\n",
       "364998    2017-01\n",
       "364999    2017-01\n",
       "Name: data, Length: 365000, dtype: object"
      ]
     },
     "execution_count": 87,
     "metadata": {},
     "output_type": "execute_result"
    }
   ],
   "source": [
    "# selecionando ano e mês\n",
    "\n",
    "dt_data['data'].dt.strftime('%Y-%m')"
   ]
  },
  {
   "cell_type": "code",
   "execution_count": 88,
   "metadata": {},
   "outputs": [
    {
     "data": {
      "text/plain": [
       "data\n",
       "2016-01    16543\n",
       "2016-02    20128\n",
       "2016-03    23357\n",
       "2016-04    22597\n",
       "2016-05    23842\n",
       "2016-06    23651\n",
       "2016-07    22329\n",
       "2016-08    22529\n",
       "2016-09    22471\n",
       "2016-10    23765\n",
       "2016-11    23352\n",
       "2016-12    24409\n",
       "2017-01     1574\n",
       "Name: vaga_disponivel, dtype: int64"
      ]
     },
     "execution_count": 88,
     "metadata": {},
     "output_type": "execute_result"
    }
   ],
   "source": [
    "# agrupando por ano e mês\n",
    "\n",
    "subset = dt_data.groupby(dt_data['data'].dt.strftime('%Y-%m'))['vaga_disponivel'].sum()\n",
    "subset"
   ]
  },
  {
   "cell_type": "markdown",
   "metadata": {},
   "source": [
    "## Manipulacao numérica"
   ]
  },
  {
   "cell_type": "code",
   "execution_count": 89,
   "metadata": {},
   "outputs": [
    {
     "data": {
      "text/html": [
       "<div>\n",
       "<style scoped>\n",
       "    .dataframe tbody tr th:only-of-type {\n",
       "        vertical-align: middle;\n",
       "    }\n",
       "\n",
       "    .dataframe tbody tr th {\n",
       "        vertical-align: top;\n",
       "    }\n",
       "\n",
       "    .dataframe thead th {\n",
       "        text-align: right;\n",
       "    }\n",
       "</style>\n",
       "<table border=\"1\" class=\"dataframe\">\n",
       "  <thead>\n",
       "    <tr style=\"text-align: right;\">\n",
       "      <th></th>\n",
       "      <th>id</th>\n",
       "      <th>data</th>\n",
       "      <th>vaga_disponivel</th>\n",
       "      <th>preco</th>\n",
       "    </tr>\n",
       "  </thead>\n",
       "  <tbody>\n",
       "    <tr>\n",
       "      <th>0</th>\n",
       "      <td>857</td>\n",
       "      <td>2016-01-04</td>\n",
       "      <td>False</td>\n",
       "      <td>None</td>\n",
       "    </tr>\n",
       "    <tr>\n",
       "      <th>1</th>\n",
       "      <td>857</td>\n",
       "      <td>2016-01-05</td>\n",
       "      <td>False</td>\n",
       "      <td>None</td>\n",
       "    </tr>\n",
       "    <tr>\n",
       "      <th>2</th>\n",
       "      <td>857</td>\n",
       "      <td>2016-01-06</td>\n",
       "      <td>False</td>\n",
       "      <td>None</td>\n",
       "    </tr>\n",
       "    <tr>\n",
       "      <th>3</th>\n",
       "      <td>857</td>\n",
       "      <td>2016-01-07</td>\n",
       "      <td>False</td>\n",
       "      <td>None</td>\n",
       "    </tr>\n",
       "    <tr>\n",
       "      <th>4</th>\n",
       "      <td>857</td>\n",
       "      <td>2016-01-08</td>\n",
       "      <td>False</td>\n",
       "      <td>None</td>\n",
       "    </tr>\n",
       "    <tr>\n",
       "      <th>...</th>\n",
       "      <td>...</td>\n",
       "      <td>...</td>\n",
       "      <td>...</td>\n",
       "      <td>...</td>\n",
       "    </tr>\n",
       "    <tr>\n",
       "      <th>364995</th>\n",
       "      <td>3279</td>\n",
       "      <td>2016-12-29</td>\n",
       "      <td>True</td>\n",
       "      <td>$140.00</td>\n",
       "    </tr>\n",
       "    <tr>\n",
       "      <th>364996</th>\n",
       "      <td>3279</td>\n",
       "      <td>2016-12-30</td>\n",
       "      <td>True</td>\n",
       "      <td>$140.00</td>\n",
       "    </tr>\n",
       "    <tr>\n",
       "      <th>364997</th>\n",
       "      <td>3279</td>\n",
       "      <td>2016-12-31</td>\n",
       "      <td>True</td>\n",
       "      <td>$140.00</td>\n",
       "    </tr>\n",
       "    <tr>\n",
       "      <th>364998</th>\n",
       "      <td>3279</td>\n",
       "      <td>2017-01-01</td>\n",
       "      <td>True</td>\n",
       "      <td>$140.00</td>\n",
       "    </tr>\n",
       "    <tr>\n",
       "      <th>364999</th>\n",
       "      <td>3279</td>\n",
       "      <td>2017-01-02</td>\n",
       "      <td>False</td>\n",
       "      <td>None</td>\n",
       "    </tr>\n",
       "  </tbody>\n",
       "</table>\n",
       "<p>365000 rows × 4 columns</p>\n",
       "</div>"
      ],
      "text/plain": [
       "          id       data  vaga_disponivel    preco\n",
       "0        857 2016-01-04            False     None\n",
       "1        857 2016-01-05            False     None\n",
       "2        857 2016-01-06            False     None\n",
       "3        857 2016-01-07            False     None\n",
       "4        857 2016-01-08            False     None\n",
       "...      ...        ...              ...      ...\n",
       "364995  3279 2016-12-29             True  $140.00\n",
       "364996  3279 2016-12-30             True  $140.00\n",
       "364997  3279 2016-12-31             True  $140.00\n",
       "364998  3279 2017-01-01             True  $140.00\n",
       "364999  3279 2017-01-02            False     None\n",
       "\n",
       "[365000 rows x 4 columns]"
      ]
     },
     "execution_count": 89,
     "metadata": {},
     "output_type": "execute_result"
    }
   ],
   "source": [
    "dt_data"
   ]
  },
  {
   "cell_type": "code",
   "execution_count": 90,
   "metadata": {},
   "outputs": [
    {
     "name": "stdout",
     "output_type": "stream",
     "text": [
      "<class 'pandas.core.frame.DataFrame'>\n",
      "Int64Index: 365000 entries, 0 to 364999\n",
      "Data columns (total 4 columns):\n",
      " #   Column           Non-Null Count   Dtype         \n",
      "---  ------           --------------   -----         \n",
      " 0   id               365000 non-null  int64         \n",
      " 1   data             365000 non-null  datetime64[ns]\n",
      " 2   vaga_disponivel  365000 non-null  bool          \n",
      " 3   preco            270547 non-null  object        \n",
      "dtypes: bool(1), datetime64[ns](1), int64(1), object(1)\n",
      "memory usage: 11.5+ MB\n"
     ]
    }
   ],
   "source": [
    "dt_data.info()"
   ]
  },
  {
   "cell_type": "code",
   "execution_count": 92,
   "metadata": {},
   "outputs": [],
   "source": [
    "dt_data['preco'].fillna('0', inplace = True)\n"
   ]
  },
  {
   "cell_type": "code",
   "execution_count": 94,
   "metadata": {},
   "outputs": [
    {
     "data": {
      "text/plain": [
       "0              0\n",
       "1              0\n",
       "2              0\n",
       "3              0\n",
       "4              0\n",
       "           ...  \n",
       "364995    140.00\n",
       "364996    140.00\n",
       "364997    140.00\n",
       "364998    140.00\n",
       "364999         0\n",
       "Name: preco, Length: 365000, dtype: object"
      ]
     },
     "execution_count": 94,
     "metadata": {},
     "output_type": "execute_result"
    }
   ],
   "source": [
    "# remover $ e as virgulas da coluna preco\n",
    "\n",
    "dt_data['preco'] = dt_data['preco'].apply(lambda x: x.replace('$', '').replace(',',''))\n",
    "dt_data['preco']\n"
   ]
  },
  {
   "cell_type": "code",
   "execution_count": 95,
   "metadata": {},
   "outputs": [
    {
     "data": {
      "text/plain": [
       "0           0.0\n",
       "1           0.0\n",
       "2           0.0\n",
       "3           0.0\n",
       "4           0.0\n",
       "          ...  \n",
       "364995    140.0\n",
       "364996    140.0\n",
       "364997    140.0\n",
       "364998    140.0\n",
       "364999      0.0\n",
       "Name: preco, Length: 365000, dtype: float64"
      ]
     },
     "execution_count": 95,
     "metadata": {},
     "output_type": "execute_result"
    }
   ],
   "source": [
    "dt_data['preco'] = dt_data['preco'].astype(np.float64)\n",
    "dt_data['preco']"
   ]
  },
  {
   "cell_type": "code",
   "execution_count": null,
   "metadata": {},
   "outputs": [],
   "source": []
  }
 ],
 "metadata": {
  "kernelspec": {
   "display_name": "Python 3",
   "language": "python",
   "name": "python3"
  },
  "language_info": {
   "codemirror_mode": {
    "name": "ipython",
    "version": 3
   },
   "file_extension": ".py",
   "mimetype": "text/x-python",
   "name": "python",
   "nbconvert_exporter": "python",
   "pygments_lexer": "ipython3",
   "version": "3.10.9"
  }
 },
 "nbformat": 4,
 "nbformat_minor": 2
}
